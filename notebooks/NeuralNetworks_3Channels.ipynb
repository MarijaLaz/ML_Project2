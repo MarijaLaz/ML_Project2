{
 "cells": [
  {
   "cell_type": "markdown",
   "metadata": {
    "id": "HRO6kj35U-tb"
   },
   "source": [
    "# 1D Convolution NN\n",
    "\n"
   ]
  },
  {
   "cell_type": "markdown",
   "metadata": {
    "id": "sUS6uWB6sweb"
   },
   "source": [
    "### Using the raw brachial waveforms, the derivatives and the area --> 3 channels"
   ]
  },
  {
   "cell_type": "code",
   "execution_count": 1,
   "metadata": {
    "executionInfo": {
     "elapsed": 2600,
     "status": "ok",
     "timestamp": 1608051499905,
     "user": {
      "displayName": "Marija Lazaroska",
      "photoUrl": "",
      "userId": "00449803403702504522"
     },
     "user_tz": -60
    },
    "id": "OtUnhCymO8lj"
   },
   "outputs": [],
   "source": [
    "%matplotlib inline\n",
    "import sys\n",
    "sys.path.append('../')\n",
    "import torch\n",
    "import torchvision\n",
    "import torch.nn as nn\n",
    "import torch.optim as optim\n",
    "import numpy as np\n",
    "import pandas as pd\n",
    "from scripts.helpers import *\n",
    "from scripts.NN_helpers import *\n",
    "from scripts.BrachialWaveform_Helpers import *\n",
    "import matplotlib.pyplot as plt\n",
    "from sklearn.metrics import r2_score\n",
    "from sklearn.metrics import mean_squared_error"
   ]
  },
  {
   "cell_type": "markdown",
   "metadata": {
    "id": "tUbe05QOPf_F"
   },
   "source": [
    "Load Data"
   ]
  },
  {
   "cell_type": "code",
   "execution_count": 2,
   "metadata": {
    "executionInfo": {
     "elapsed": 1427,
     "status": "ok",
     "timestamp": 1608051426249,
     "user": {
      "displayName": "Marija Lazaroska",
      "photoUrl": "",
      "userId": "00449803403702504522"
     },
     "user_tz": -60
    },
    "id": "0bMU47gkPh7X"
   },
   "outputs": [],
   "source": [
    "#radial waveforms\n",
    "RWF_PATH = \"../Data/radial_BP_waveforms_HEMODB.csv\"\n",
    "#brachial waveforms\n",
    "BWF_PATH = \"../Data/brachial_BP_waveforms_HEMODB.csv\"\n",
    "#features brSBP, brDBP, HR, cfPWV\n",
    "U1_PATH = \"../Data/u1.csv\"\n",
    "#labels\n",
    "EES_PATH = \"../Data/true_ees.csv\""
   ]
  },
  {
   "cell_type": "code",
   "execution_count": 3,
   "metadata": {
    "executionInfo": {
     "elapsed": 5728,
     "status": "ok",
     "timestamp": 1608051431919,
     "user": {
      "displayName": "Marija Lazaroska",
      "photoUrl": "",
      "userId": "00449803403702504522"
     },
     "user_tz": -60
    },
    "id": "opylUq2JPou-"
   },
   "outputs": [],
   "source": [
    "rd_waveform = pd.read_csv(RWF_PATH, sep=';').set_index(\"ID\")\n",
    "rd_waveform = rd_waveform.loc[:, (rd_waveform != 0).any(axis=0)] #drop all-0 columns\n",
    "\n",
    "br_waveform = pd.read_csv(BWF_PATH, sep=';').set_index(\"ID\")\n",
    "br_waveform = br_waveform.loc[:, (br_waveform != 0).any(axis=0)] #drop all-0 columns\n",
    "\n",
    "u1_data = pd.read_csv(U1_PATH).set_index(\"ID\")\n",
    "ees = pd.read_csv(EES_PATH).set_index(\"ID\")\n",
    "ees = inverse(ees) # the ees value in the csv file is its inverse"
   ]
  },
  {
   "cell_type": "markdown",
   "metadata": {
    "id": "gGW6OGTls4nj"
   },
   "source": [
    "#### The derivatives of the waveforms"
   ]
  },
  {
   "cell_type": "code",
   "execution_count": 4,
   "metadata": {
    "colab": {
     "base_uri": "https://localhost:8080/"
    },
    "executionInfo": {
     "elapsed": 1935,
     "status": "ok",
     "timestamp": 1608051434782,
     "user": {
      "displayName": "Marija Lazaroska",
      "photoUrl": "",
      "userId": "00449803403702504522"
     },
     "user_tz": -60
    },
    "id": "Qz_dXTyHWaSd",
    "outputId": "f34ca3fb-4e2e-40fb-ccd1-d2615fe4faf0"
   },
   "outputs": [
    {
     "data": {
      "text/plain": [
       "(4018, 80)"
      ]
     },
     "execution_count": 4,
     "metadata": {},
     "output_type": "execute_result"
    }
   ],
   "source": [
    "derivatives = derivative(br_waveform)\n",
    "derivatives.shape"
   ]
  },
  {
   "cell_type": "markdown",
   "metadata": {
    "id": "YiKhwWuvwfD-"
   },
   "source": [
    "#### The area of the waveforms"
   ]
  },
  {
   "cell_type": "code",
   "execution_count": 5,
   "metadata": {
    "colab": {
     "base_uri": "https://localhost:8080/"
    },
    "executionInfo": {
     "elapsed": 3328,
     "status": "ok",
     "timestamp": 1608051505847,
     "user": {
      "displayName": "Marija Lazaroska",
      "photoUrl": "",
      "userId": "00449803403702504522"
     },
     "user_tz": -60
    },
    "id": "CRToZgHaq4re",
    "outputId": "f57896a5-b572-419c-ee04-610451e15352"
   },
   "outputs": [
    {
     "data": {
      "text/plain": [
       "(4018, 80)"
      ]
     },
     "execution_count": 5,
     "metadata": {},
     "output_type": "execute_result"
    }
   ],
   "source": [
    "area = np.array(total_area(br_waveform))\n",
    "area_features = np.repeat(area,80,axis=1)\n",
    "area_features.shape"
   ]
  },
  {
   "cell_type": "code",
   "execution_count": 6,
   "metadata": {
    "colab": {
     "base_uri": "https://localhost:8080/"
    },
    "executionInfo": {
     "elapsed": 1546,
     "status": "ok",
     "timestamp": 1608051509459,
     "user": {
      "displayName": "Marija Lazaroska",
      "photoUrl": "",
      "userId": "00449803403702504522"
     },
     "user_tz": -60
    },
    "id": "B5bxjlBgaA6W",
    "outputId": "3b939156-92eb-4127-a8c2-948e057aab41"
   },
   "outputs": [
    {
     "data": {
      "text/plain": [
       "(4018, 3, 80)"
      ]
     },
     "execution_count": 6,
     "metadata": {},
     "output_type": "execute_result"
    }
   ],
   "source": [
    "raw_waveforms = np.array(br_waveform)\n",
    "waveforms_3 = np.c_[raw_waveforms,derivatives,area_features]\n",
    "waveforms_3 = waveforms_3.reshape(4018,3,80) # creating the channels\n",
    "waveforms_3.shape"
   ]
  },
  {
   "cell_type": "markdown",
   "metadata": {
    "id": "-vRCW9joVOec"
   },
   "source": [
    "Splitting data to :\n",
    "\n",
    "*   Train set 80%\n",
    "*   Test set 20%\n",
    "\n",
    "\n"
   ]
  },
  {
   "cell_type": "code",
   "execution_count": 15,
   "metadata": {
    "executionInfo": {
     "elapsed": 1642,
     "status": "ok",
     "timestamp": 1608051513326,
     "user": {
      "displayName": "Marija Lazaroska",
      "photoUrl": "",
      "userId": "00449803403702504522"
     },
     "user_tz": -60
    },
    "id": "s7RzqcCHK6yh"
   },
   "outputs": [],
   "source": [
    "from sklearn.model_selection import train_test_split\n",
    "X_train, X_test, y_train, y_test = train_test_split(waveforms_3, ees, test_size = 0.20)"
   ]
  },
  {
   "cell_type": "code",
   "execution_count": 16,
   "metadata": {
    "colab": {
     "base_uri": "https://localhost:8080/"
    },
    "executionInfo": {
     "elapsed": 1345,
     "status": "ok",
     "timestamp": 1608051517134,
     "user": {
      "displayName": "Marija Lazaroska",
      "photoUrl": "",
      "userId": "00449803403702504522"
     },
     "user_tz": -60
    },
    "id": "QEiaOvlJRbX5",
    "outputId": "150f38c3-3527-4899-9f7a-eacdaa036684"
   },
   "outputs": [
    {
     "data": {
      "text/plain": [
       "(3214, 3, 80)"
      ]
     },
     "execution_count": 16,
     "metadata": {
      "tags": []
     },
     "output_type": "execute_result"
    }
   ],
   "source": [
    "X_train.shape"
   ]
  },
  {
   "cell_type": "markdown",
   "metadata": {
    "id": "VFL7LFfWPrbV"
   },
   "source": [
    "## Training and Results"
   ]
  },
  {
   "cell_type": "code",
   "execution_count": 17,
   "metadata": {
    "colab": {
     "base_uri": "https://localhost:8080/"
    },
    "executionInfo": {
     "elapsed": 645,
     "status": "ok",
     "timestamp": 1608051517534,
     "user": {
      "displayName": "Marija Lazaroska",
      "photoUrl": "",
      "userId": "00449803403702504522"
     },
     "user_tz": -60
    },
    "id": "EuWcTpe-tVlC",
    "outputId": "0cc0475b-6162-499b-94dd-b31e047579b8"
   },
   "outputs": [
    {
     "data": {
      "text/plain": [
       "True"
      ]
     },
     "execution_count": 17,
     "metadata": {
      "tags": []
     },
     "output_type": "execute_result"
    }
   ],
   "source": [
    "torch.cuda.is_available()"
   ]
  },
  {
   "cell_type": "code",
   "execution_count": 18,
   "metadata": {
    "executionInfo": {
     "elapsed": 1367,
     "status": "ok",
     "timestamp": 1608051519315,
     "user": {
      "displayName": "Marija Lazaroska",
      "photoUrl": "",
      "userId": "00449803403702504522"
     },
     "user_tz": -60
    },
    "id": "RFfeC-7ZjAZN"
   },
   "outputs": [],
   "source": [
    "device = torch.device(\"cuda\" if torch.cuda.is_available() else \"cpu\")"
   ]
  },
  {
   "cell_type": "code",
   "execution_count": 19,
   "metadata": {
    "executionInfo": {
     "elapsed": 563,
     "status": "ok",
     "timestamp": 1608051519789,
     "user": {
      "displayName": "Marija Lazaroska",
      "photoUrl": "",
      "userId": "00449803403702504522"
     },
     "user_tz": -60
    },
    "id": "FJkN8jartEu5"
   },
   "outputs": [],
   "source": [
    "NUM_EPOCHS = 300\n",
    "BATCH_SIZE = 32"
   ]
  },
  {
   "cell_type": "code",
   "execution_count": 21,
   "metadata": {
    "colab": {
     "base_uri": "https://localhost:8080/"
    },
    "executionInfo": {
     "elapsed": 132740,
     "status": "ok",
     "timestamp": 1608051849924,
     "user": {
      "displayName": "Marija Lazaroska",
      "photoUrl": "",
      "userId": "00449803403702504522"
     },
     "user_tz": -60
    },
    "id": "fm1DbyBkPuyj",
    "outputId": "6a8b6990-24dd-47d0-d7f2-5934b647a3e4"
   },
   "outputs": [
    {
     "name": "stdout",
     "output_type": "stream",
     "text": [
      "Starting training\n",
      "\tEpoch 0   | R2 score: -2.3722205113513035, r score: -0.3726723312264884\n",
      "\tEpoch 50   | R2 score: 0.10476232607728556, r score: 0.48502007774112976\n",
      "\tEpoch 100   | R2 score: 0.5850845065649561, r score: 0.7948175783186258\n",
      "\tEpoch 150   | R2 score: 0.6701511210844149, r score: 0.8331574080534767\n",
      "\tEpoch 200   | R2 score: 0.737674365061732, r score: 0.8747972273147827\n",
      "\tEpoch 250   | R2 score: 0.666299433544134, r score: 0.8758510634220157\n",
      "\tEpoch 299   | R2 score: 0.7547514202729318, r score: 0.887644255995663\n"
     ]
    }
   ],
   "source": [
    "model = ConvModel3Channels().to(device)\n",
    "criterion = nn.MSELoss()\n",
    "dataset_train = [np.array(X_train),np.array(y_train)]\n",
    "dataset_test = [np.array(X_test),np.array(y_test)]\n",
    "optimizer = optim.Adam(model.parameters(), lr=0.001)\n",
    "\n",
    "\n",
    "r = train(model,criterion,dataset_train,dataset_test, optimizer,NUM_EPOCHS,BATCH_SIZE)"
   ]
  },
  {
   "cell_type": "code",
   "execution_count": 23,
   "metadata": {
    "colab": {
     "base_uri": "https://localhost:8080/"
    },
    "executionInfo": {
     "elapsed": 1459,
     "status": "ok",
     "timestamp": 1608053361222,
     "user": {
      "displayName": "Marija Lazaroska",
      "photoUrl": "",
      "userId": "00449803403702504522"
     },
     "user_tz": -60
    },
    "id": "UGY40yQsC1SV",
    "outputId": "5f702943-2005-4ae9-a495-f37bb2dd82f7"
   },
   "outputs": [
    {
     "name": "stdout",
     "output_type": "stream",
     "text": [
      "MAE loss  0.0015719997\n"
     ]
    }
   ],
   "source": [
    "print(\"MAE loss \",r[1][-1])"
   ]
  },
  {
   "cell_type": "code",
   "execution_count": 24,
   "metadata": {
    "colab": {
     "base_uri": "https://localhost:8080/",
     "height": 256
    },
    "executionInfo": {
     "elapsed": 1731,
     "status": "ok",
     "timestamp": 1608053475458,
     "user": {
      "displayName": "Marija Lazaroska",
      "photoUrl": "",
      "userId": "00449803403702504522"
     },
     "user_tz": -60
    },
    "id": "8-jlHUki0vq-",
    "outputId": "dc300c07-9595-432d-c368-0dd0755854cf"
   },
   "outputs": [
    {
     "data": {
      "image/png": "[encoded data removed]",
      "text/plain": [
       "<Figure size 720x216 with 2 Axes>"
      ]
     },
     "metadata": {
      "needs_background": "light",
      "tags": []
     },
     "output_type": "display_data"
    }
   ],
   "source": [
    "f, (ax1, ax2) = plt.subplots(1, 2, figsize=(10,3),sharey=False)\n",
    "x = np.arange(0,NUM_EPOCHS)\n",
    "ax1.plot(x,np.array(r)[0],label=\"R2\")\n",
    "ax1.plot(x,np.array(r)[4],label=\"r\")\n",
    "ax2.plot(x,np.array(r)[1],label=\"loss\")\n",
    "ax1.legend()\n",
    "ax2.legend()\n",
    "f.tight_layout() \n",
    "f.suptitle(\"Test\",y=1.09)\n",
    "plt.show()"
   ]
  },
  {
   "cell_type": "code",
   "execution_count": 25,
   "metadata": {
    "colab": {
     "base_uri": "https://localhost:8080/",
     "height": 256
    },
    "executionInfo": {
     "elapsed": 1028,
     "status": "ok",
     "timestamp": 1608053481998,
     "user": {
      "displayName": "Marija Lazaroska",
      "photoUrl": "",
      "userId": "00449803403702504522"
     },
     "user_tz": -60
    },
    "id": "lNa6D1gLOuMH",
    "outputId": "73c9d0fe-537c-45c8-e62e-19764d483f05"
   },
   "outputs": [
    {
     "data": {
      "image/png": "[encoded data removed]",
      "text/plain": [
       "<Figure size 720x216 with 2 Axes>"
      ]
     },
     "metadata": {
      "needs_background": "light",
      "tags": []
     },
     "output_type": "display_data"
    }
   ],
   "source": [
    "f, (ax1, ax2) = plt.subplots(1, 2, figsize=(10,3),sharey=False)\n",
    "x = np.arange(0,NUM_EPOCHS)\n",
    "ax1.plot(x,np.array(r)[2],label=\"R2\")\n",
    "ax2.plot(x,np.array(r)[3],label=\"loss\")\n",
    "ax1.legend()\n",
    "ax2.legend()\n",
    "f.tight_layout() \n",
    "f.suptitle(\"Train\",y=1.09)\n",
    "plt.show()"
   ]
  },
  {
   "cell_type": "markdown",
   "metadata": {
    "id": "3Zj02Ed9otq_"
   },
   "source": [
    "TUNING HYPER PARAMETERS"
   ]
  },
  {
   "cell_type": "code",
   "execution_count": null,
   "metadata": {
    "colab": {
     "base_uri": "https://localhost:8080/"
    },
    "executionInfo": {
     "elapsed": 532886,
     "status": "ok",
     "timestamp": 1607817708883,
     "user": {
      "displayName": "Marija Lazaroska",
      "photoUrl": "",
      "userId": "00449803403702504522"
     },
     "user_tz": -60
    },
    "id": "NcjKqPDXpZQH",
    "outputId": "74d8e849-a3c9-424e-f387-78f4dbb0a65d"
   },
   "outputs": [
    {
     "name": "stdout",
     "output_type": "stream",
     "text": [
      "PARAMETERS: LEARNING RATE = 0.001, BATCH_SIZE = 32\n",
      "Starting training\n",
      "\tEpoch 0   | R2 score: -4.572255130042694, r score: -0.21484067694539433\n",
      "\tEpoch 50   | R2 score: 0.06525530584483943, r score: 0.40256685843381135\n",
      "\tEpoch 100   | R2 score: 0.12988776310057026, r score: 0.46860331514103815\n",
      "\tEpoch 150   | R2 score: 0.38139456246852305, r score: 0.6849120932831692\n",
      "\tEpoch 200   | R2 score: 0.7116961634644143, r score: 0.8601768368484177\n",
      "\tEpoch 250   | R2 score: 0.7297422612761131, r score: 0.8691253326782001\n",
      "\tEpoch 299   | R2 score: 0.7307779274582856, r score: 0.8705900454995499\n",
      "PARAMETERS: LEARNING RATE = 0.001, BATCH_SIZE = 64\n",
      "Starting training\n",
      "\tEpoch 0   | R2 score: -17.305187304144525, r score: 0.19271163794750967\n",
      "\tEpoch 50   | R2 score: -0.6536277719661124, r score: -0.0929461775541907\n",
      "\tEpoch 100   | R2 score: -1.0860306932024455, r score: 0.13859087473420584\n",
      "\tEpoch 150   | R2 score: -0.17018040736954795, r score: 0.435744617924037\n",
      "\tEpoch 200   | R2 score: 0.12412680692518448, r score: 0.40400418088458173\n",
      "\tEpoch 250   | R2 score: 0.16059070577486598, r score: 0.4063668990755614\n",
      "\tEpoch 299   | R2 score: 0.14443412344433157, r score: 0.40042347751301444\n",
      "PARAMETERS: LEARNING RATE = 0.001, BATCH_SIZE = 128\n",
      "Starting training\n",
      "\tEpoch 0   | R2 score: -6.040708521151301, r score: -0.39555452743670516\n",
      "\tEpoch 50   | R2 score: -1.8348495206355304, r score: -0.4088673405671317\n",
      "\tEpoch 100   | R2 score: -0.12358151191009636, r score: 0.04772404348417695\n",
      "\tEpoch 150   | R2 score: 0.08554949835003993, r score: 0.3217407793905684\n",
      "\tEpoch 200   | R2 score: 0.09695955808972694, r score: 0.3978210556249642\n",
      "\tEpoch 250   | R2 score: 0.1435017559701974, r score: 0.4012436600128664\n",
      "\tEpoch 299   | R2 score: 0.16094758617999708, r score: 0.4185231183787402\n",
      "PARAMETERS: LEARNING RATE = 0.001, BATCH_SIZE = 200\n",
      "Starting training\n",
      "\tEpoch 0   | R2 score: -667.0759793540547, r score: 0.40366073462038177\n",
      "\tEpoch 50   | R2 score: -1.3332889033873165, r score: -0.41374519127212683\n",
      "\tEpoch 100   | R2 score: -0.4536732421551312, r score: -0.19256843069963414\n",
      "\tEpoch 150   | R2 score: -0.11831668413672608, r score: 0.042124961177795926\n",
      "\tEpoch 200   | R2 score: 0.04611111831209466, r score: 0.24855167524378596\n",
      "\tEpoch 250   | R2 score: 0.12608320024891478, r score: 0.3642632841990065\n",
      "\tEpoch 299   | R2 score: -0.12618703196416503, r score: 0.39891247713916644\n",
      "PARAMETERS: LEARNING RATE = 0.001, BATCH_SIZE = 250\n",
      "Starting training\n",
      "\tEpoch 0   | R2 score: -15.79934878336909, r score: -0.3995351404680951\n",
      "\tEpoch 50   | R2 score: -0.6617378354589829, r score: -0.0995214866157173\n",
      "\tEpoch 100   | R2 score: -0.1064212649686549, r score: 0.33072496728497386\n",
      "\tEpoch 150   | R2 score: 0.16667902158922807, r score: 0.41076966930692754\n",
      "\tEpoch 200   | R2 score: 0.17984250124972753, r score: 0.44602997469563954\n",
      "\tEpoch 250   | R2 score: 0.17529273424478817, r score: 0.44308720291746023\n",
      "\tEpoch 299   | R2 score: 0.09718080422783264, r score: 0.43126580987624646\n",
      "PARAMETERS: LEARNING RATE = 0.0001, BATCH_SIZE = 32\n",
      "Starting training\n",
      "\tEpoch 0   | R2 score: -7.366513618918202, r score: -0.3472167231630378\n",
      "\tEpoch 50   | R2 score: -0.552970891610699, r score: -0.0439759651849895\n",
      "\tEpoch 100   | R2 score: -0.12475938372404649, r score: 0.34888209707974605\n",
      "\tEpoch 150   | R2 score: 0.03741957319366288, r score: 0.44159666957797955\n",
      "\tEpoch 200   | R2 score: 0.22898077910218936, r score: 0.5271367226935478\n",
      "\tEpoch 250   | R2 score: 0.2530581803767257, r score: 0.5589001388320064\n",
      "\tEpoch 299   | R2 score: 0.2035310816601323, r score: 0.564191221246658\n",
      "PARAMETERS: LEARNING RATE = 0.0001, BATCH_SIZE = 64\n",
      "Starting training\n",
      "\tEpoch 0   | R2 score: -2.8763047275234577, r score: 0.1558117843058403\n",
      "\tEpoch 50   | R2 score: -0.4947825299570146, r score: 0.03505154030811252\n",
      "\tEpoch 100   | R2 score: -0.08246848417444395, r score: 0.175984268450752\n",
      "\tEpoch 150   | R2 score: 0.1500153276624327, r score: 0.44991987543012946\n",
      "\tEpoch 200   | R2 score: 0.2033660047628936, r score: 0.4655926052598662\n",
      "\tEpoch 250   | R2 score: 0.1922535852762349, r score: 0.47095287037430483\n",
      "\tEpoch 299   | R2 score: 0.20824359258284086, r score: 0.479627612266206\n",
      "PARAMETERS: LEARNING RATE = 0.0001, BATCH_SIZE = 128\n",
      "Starting training\n",
      "\tEpoch 0   | R2 score: -4466.555881689556, r score: -0.3905109952417558\n",
      "\tEpoch 50   | R2 score: -3.2916701301209095, r score: -0.030505709259230504\n",
      "\tEpoch 100   | R2 score: -2.6392002074513923, r score: -0.004755376802549601\n",
      "\tEpoch 150   | R2 score: -2.203362069772006, r score: -0.023302232902838654\n",
      "\tEpoch 200   | R2 score: -1.7212352441012213, r score: -0.0016246544058252054\n",
      "\tEpoch 250   | R2 score: -1.1579257134560745, r score: 0.055089999497599164\n",
      "\tEpoch 299   | R2 score: -1.0799887698957529, r score: 0.16510313051350153\n",
      "PARAMETERS: LEARNING RATE = 0.0001, BATCH_SIZE = 200\n",
      "Starting training\n",
      "\tEpoch 0   | R2 score: -112536.46079300443, r score: 0.4089676913833546\n",
      "\tEpoch 50   | R2 score: -4.751880900360213, r score: -0.38386826603169255\n",
      "\tEpoch 100   | R2 score: -3.1124720577907325, r score: -0.3894073184510384\n",
      "\tEpoch 150   | R2 score: -1.7680176255648443, r score: -0.33289891813155814\n",
      "\tEpoch 200   | R2 score: -1.4563205654776872, r score: -0.25058510952994806\n",
      "\tEpoch 250   | R2 score: -1.3314844965205133, r score: -0.1863004902353308\n",
      "\tEpoch 299   | R2 score: -1.0935287320406557, r score: -0.20324938904742418\n",
      "PARAMETERS: LEARNING RATE = 0.0001, BATCH_SIZE = 250\n",
      "Starting training\n",
      "\tEpoch 0   | R2 score: -5.38507386198339, r score: -0.4051637302569537\n",
      "\tEpoch 50   | R2 score: -1.2421488166179047, r score: -0.12540274136737575\n",
      "\tEpoch 100   | R2 score: -0.7702615369991689, r score: -0.04995926649969629\n",
      "\tEpoch 150   | R2 score: -0.3906763061719551, r score: 0.0626593000400843\n",
      "\tEpoch 200   | R2 score: -0.12747985105788348, r score: 0.21752672552505312\n",
      "\tEpoch 250   | R2 score: 0.05999573433746508, r score: 0.3306659926442813\n",
      "\tEpoch 299   | R2 score: 0.15740398485326426, r score: 0.41884851207631746\n"
     ]
    }
   ],
   "source": [
    "learning_rate=[0.001,0.0001]\n",
    "#batch_size=[90,150,200,250]\n",
    "batch_size = [32,64,128,200,250]\n",
    "parameters = [learning_rate,batch_size]\n",
    "dataset_train = [np.array(X_train),np.array(y_train)]\n",
    "dataset_test = [np.array(X_test),np.array(y_test)]\n",
    "results=hypertuning_NN(dataset_train,dataset_test,parameters,NUM_EPOCHS,3)"
   ]
  },
  {
   "cell_type": "code",
   "execution_count": null,
   "metadata": {
    "colab": {
     "base_uri": "https://localhost:8080/",
     "height": 294
    },
    "executionInfo": {
     "elapsed": 698,
     "status": "ok",
     "timestamp": 1607817889821,
     "user": {
      "displayName": "Marija Lazaroska",
      "photoUrl": "",
      "userId": "00449803403702504522"
     },
     "user_tz": -60
    },
    "id": "nlTD20J3XqoN",
    "outputId": "20d348d7-9b36-4fa3-df92-df46c4398b79"
   },
   "outputs": [
    {
     "data": {
      "image/png": "[encoded data removed]",
      "text/plain": [
       "<Figure size 432x288 with 1 Axes>"
      ]
     },
     "metadata": {
      "needs_background": "light",
      "tags": []
     },
     "output_type": "display_data"
    }
   ],
   "source": [
    "plt.figure()\n",
    "x = np.arange(50,NUM_EPOCHS,50)\n",
    "param_combin = [[l_rate, b_size] for l_rate, b_size in product(*parameters)]\n",
    "for i in range(len(param_combin)):\n",
    "    plt.plot(x,np.array(results)[i][0][50::50],label=param_combin[i])\n",
    "    #plt.legend(['{}'.format(i)])\n",
    "plt.legend()\n",
    "plt.suptitle(\"R2 score\")\n",
    "plt.show()"
   ]
  },
  {
   "cell_type": "code",
   "execution_count": null,
   "metadata": {
    "colab": {
     "base_uri": "https://localhost:8080/",
     "height": 294
    },
    "executionInfo": {
     "elapsed": 824,
     "status": "ok",
     "timestamp": 1607817894500,
     "user": {
      "displayName": "Marija Lazaroska",
      "photoUrl": "",
      "userId": "00449803403702504522"
     },
     "user_tz": -60
    },
    "id": "ZIHAnD2PiZen",
    "outputId": "c4631586-a1b8-4222-8a10-86d5bde4a0d0"
   },
   "outputs": [
    {
     "data": {
      "image/png": "[encoded data removed]",
      "text/plain": [
       "<Figure size 432x288 with 1 Axes>"
      ]
     },
     "metadata": {
      "needs_background": "light",
      "tags": []
     },
     "output_type": "display_data"
    }
   ],
   "source": [
    "plt.figure()\n",
    "x = np.arange(50,NUM_EPOCHS,50)\n",
    "param_combin = [[l_rate, b_size] for l_rate, b_size in product(*parameters)]\n",
    "for i in range(len(param_combin)):\n",
    "    plt.plot(x,np.array(results)[i][1][50::50],label=param_combin[i])\n",
    "     #plt.legend(['{}'.format(i)])\n",
    "plt.legend()\n",
    "plt.suptitle(\"Loss\")\n",
    "plt.show()"
   ]
  }
 ],
 "metadata": {
  "accelerator": "GPU",
  "colab": {
   "collapsed_sections": [],
   "name": "NeuralNetworks_3Channels.ipynb",
   "provenance": [
    {
     "file_id": "1h6YMXFLjHMMIVMO0lHVstWyKPyuNJMs8",
     "timestamp": 1607007090228
    }
   ]
  },
  "kernelspec": {
   "display_name": "Python [conda env:ada] *",
   "language": "python",
   "name": "conda-env-ada-py"
  },
  "language_info": {
   "codemirror_mode": {
    "name": "ipython",
    "version": 3
   },
   "file_extension": ".py",
   "mimetype": "text/x-python",
   "name": "python",
   "nbconvert_exporter": "python",
   "pygments_lexer": "ipython3",
   "version": "3.8.5"
  }
 },
 "nbformat": 4,
 "nbformat_minor": 4
}
