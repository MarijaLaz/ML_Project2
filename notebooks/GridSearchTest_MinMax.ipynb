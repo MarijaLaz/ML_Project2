{
 "cells": [
  {
   "cell_type": "markdown",
   "metadata": {
    "id": "Oa9nQb9P7vQE"
   },
   "source": [
    "# Tuning hyperparameters for 4 models using MinMax scaler:\n",
    "- Random Forest\n",
    "- SVR\n",
    "- Ridge Regression\n",
    "- Gradient Boosting\n",
    "\n",
    "Using 10 fold-cross validation with internal 10 fold validation for each fold of the external validation."
   ]
  },
  {
   "cell_type": "code",
   "execution_count": 1,
   "metadata": {
    "id": "b0B5We4a1xZG"
   },
   "outputs": [],
   "source": [
    "# Useful starting lines\n",
    "%matplotlib inline\n",
    "import sys\n",
    "sys.path.append('../')\n",
    "\n",
    "import sklearn\n",
    "import numpy as np\n",
    "import pandas as pd\n",
    "import scipy as ski\n",
    "from math import sqrt\n",
    "import matplotlib.pyplot as plt\n",
    "from scripts.helpers import *\n",
    "from scripts.GridSearch_helpers import *\n",
    "\n",
    "%load_ext autoreload\n",
    "%autoreload 2"
   ]
  },
  {
   "cell_type": "markdown",
   "metadata": {
    "id": "RSknrjrT8XS4"
   },
   "source": [
    "## Loading the data from files:\n",
    "- true_ees.csv : csv file with the values of end-systolic elastance (*EES*) from the lab dataset  => *outputs*\n",
    "- u2.csv       : csv file with the values of the features from the lab dataset including the EF => *inputs*\n",
    "\n"
   ]
  },
  {
   "cell_type": "code",
   "execution_count": 2,
   "metadata": {
    "id": "Lde4hkDB2kiw"
   },
   "outputs": [],
   "source": [
    "EES_PATH = \"../Data/true_ees.csv\"\n",
    "U2_PATH = \"../Data/u2.csv\""
   ]
  },
  {
   "cell_type": "code",
   "execution_count": 3,
   "metadata": {
    "id": "iKqEF6o53H5g"
   },
   "outputs": [],
   "source": [
    "ees = pd.read_csv(EES_PATH).set_index(\"ID\")\n",
    "data = pd.read_csv(U2_PATH).set_index(\"ID\")"
   ]
  },
  {
   "cell_type": "markdown",
   "metadata": {
    "id": "QGsujX_yV2IC"
   },
   "source": [
    "Calling the inverse function on the end-systolic elastance values of the dataset to convert them to the compliance, aimed at being consistent with the prediction of the applied regression models "
   ]
  },
  {
   "cell_type": "code",
   "execution_count": 4,
   "metadata": {
    "id": "gQwuMV4zVzz2"
   },
   "outputs": [],
   "source": [
    "ees = inverse(ees)"
   ]
  },
  {
   "cell_type": "markdown",
   "metadata": {
    "id": "CQSDwAmQ9EAO"
   },
   "source": [
    "## Spliting the data into:\n",
    "- 80% : training set \n",
    "- 20% : testing set  "
   ]
  },
  {
   "cell_type": "code",
   "execution_count": 5,
   "metadata": {
    "id": "XHAFgul5kdTM"
   },
   "outputs": [],
   "source": [
    "from sklearn.model_selection import train_test_split\n",
    "X_train, X_test, y_train, y_test = train_test_split(data, ees, test_size = 0.20)"
   ]
  },
  {
   "cell_type": "markdown",
   "metadata": {
    "id": "T_pRKz6T9Txn"
   },
   "source": [
    "## Normalizing the data with MinMax scaler\n"
   ]
  },
  {
   "cell_type": "code",
   "execution_count": 6,
   "metadata": {
    "id": "V28YXCeFklXy"
   },
   "outputs": [],
   "source": [
    "from sklearn.preprocessing import MinMaxScaler\n",
    "\n",
    "scaler=MinMaxScaler()\n",
    "\n",
    "scaler.fit(X_train)\n",
    "X_train=pd.DataFrame(scaler.transform(X_train))\n",
    "X_test=pd.DataFrame(scaler.transform(X_test))"
   ]
  },
  {
   "cell_type": "markdown",
   "metadata": {
    "id": "wEfFhEgw1nE-"
   },
   "source": [
    "# Random Forest"
   ]
  },
  {
   "cell_type": "markdown",
   "metadata": {
    "id": "l-km7EOZ3kkC"
   },
   "source": [
    "\n",
    "#### Parameter Tuning"
   ]
  },
  {
   "cell_type": "code",
   "execution_count": null,
   "metadata": {
    "colab": {
     "base_uri": "https://localhost:8080/"
    },
    "executionInfo": {
     "elapsed": 4263709,
     "status": "ok",
     "timestamp": 1607791323511,
     "user": {
      "displayName": "Marija Lazaroska",
      "photoUrl": "",
      "userId": "00449803403702504522"
     },
     "user_tz": -60
    },
    "id": "sJFPmd1J1mbE",
    "outputId": "f9c92d55-f922-4e48-a25d-a40e4616dd3f"
   },
   "outputs": [
    {
     "name": "stdout",
     "output_type": "stream",
     "text": [
      "Best Parameters for 0 fold: {'max_depth': 20, 'n_estimators': 700}\n",
      "fold:0, r:0.9494181967461612, R2:0.9009470826799836, RMSE:0.0008513662445949117, MAE:0.022501749183850703\n",
      "Best Parameters for 1 fold: {'max_depth': 20, 'n_estimators': 1000}\n",
      "fold:1, r:0.952766532518137, R2:0.901372306810513, RMSE:0.0007548134731107308, MAE:0.020868863341821493\n",
      "Best Parameters for 2 fold: {'max_depth': 10, 'n_estimators': 1000}\n",
      "fold:2, r:0.9487844289032829, R2:0.8997827571254051, RMSE:0.0007323830583488572, MAE:0.021449560145649135\n",
      "Best Parameters for 3 fold: {'max_depth': 20, 'n_estimators': 1000}\n",
      "fold:3, r:0.9394595932212227, R2:0.8821044264407387, RMSE:0.0008703974222239792, MAE:0.022254508797813707\n",
      "Best Parameters for 4 fold: {'max_depth': 20, 'n_estimators': 1000}\n",
      "fold:4, r:0.947483247672323, R2:0.8976334906661589, RMSE:0.000811276741411441, MAE:0.022221563346282072\n",
      "Best Parameters for 5 fold: {'max_depth': 20, 'n_estimators': 1000}\n",
      "fold:5, r:0.9561889484224204, R2:0.9141310548801801, RMSE:0.0006256122504974232, MAE:0.01974388716278874\n",
      "Best Parameters for 6 fold: {'max_depth': 20, 'n_estimators': 1000}\n",
      "fold:6, r:0.9301890918066146, R2:0.8636560615225701, RMSE:0.0008202862120675737, MAE:0.02196304063004339\n",
      "Best Parameters for 7 fold: {'max_depth': 20, 'n_estimators': 500}\n",
      "fold:7, r:0.9491917221030762, R2:0.8984682536773222, RMSE:0.0006643071168087464, MAE:0.020597350311823182\n",
      "Best Parameters for 8 fold: {'max_depth': 20, 'n_estimators': 500}\n",
      "fold:8, r:0.9269208692527167, R2:0.8590090802708639, RMSE:0.0009762850780803287, MAE:0.023140173320102715\n",
      "Best Parameters for 9 fold: {'max_depth': 10, 'n_estimators': 1000}\n",
      "fold:9, r:0.9593399228388181, R2:0.9184078509446257, RMSE:0.0007600463761528119, MAE:0.021528453034850938\n",
      "Best results:\n",
      " r =0.9593399228388181 in i=9,\n",
      " R2=0.9184078509446257 in i=9,\n",
      " RMSE=0.0006256122504974232 in i=5,\n",
      " MAE=0.01974388716278874 in fold=5\n"
     ]
    },
    {
     "data": {
      "text/plain": [
       "(0.9593399228388181,\n",
       " 0.9184078509446257,\n",
       " 0.0006256122504974232,\n",
       " 0.01974388716278874,\n",
       " [{'max_depth': 10, 'n_estimators': 1000},\n",
       "  {'max_depth': 10, 'n_estimators': 1000},\n",
       "  {'max_depth': 20, 'n_estimators': 1000},\n",
       "  {'max_depth': 20, 'n_estimators': 1000}])"
      ]
     },
     "execution_count": 19,
     "metadata": {
      "tags": []
     },
     "output_type": "execute_result"
    }
   ],
   "source": [
    "from sklearn.ensemble import RandomForestRegressor\n",
    "\n",
    "crossvalidation(X_train,y_train, RandomForestRegressor(), \"Random Forest\", dict(max_depth=[5,10,20], n_estimators=[500,700,1000] ), 10)"
   ]
  },
  {
   "cell_type": "markdown",
   "metadata": {
    "id": "U0UiWHGB3qjW"
   },
   "source": [
    "#### Testing the model"
   ]
  },
  {
   "cell_type": "code",
   "execution_count": null,
   "metadata": {
    "colab": {
     "base_uri": "https://localhost:8080/"
    },
    "executionInfo": {
     "elapsed": 14355,
     "status": "ok",
     "timestamp": 1607792586902,
     "user": {
      "displayName": "Marija Lazaroska",
      "photoUrl": "",
      "userId": "00449803403702504522"
     },
     "user_tz": -60
    },
    "id": "AWLyhqUJ8_Bg",
    "outputId": "f83a2ea1-2af3-4fb6-ed5c-588bee226113"
   },
   "outputs": [
    {
     "name": "stdout",
     "output_type": "stream",
     "text": [
      "Results for Random Forest:\n",
      "r:0.94753884457801, R2:0.8973215410413728, RMSE:0.027155442708822645, MAE:0.020692766618872357\n"
     ]
    }
   ],
   "source": [
    "regressor = RandomForestRegressor(1000,max_depth=20)\n",
    "regressor.fit(X_train,np.ravel(y_train))\n",
    "y_predict = regressor.predict(X_test)\n",
    "R2 = regressor.score(X_test,y_test)\n",
    "r = np.corrcoef(np.ravel(y_test), y_predict)[0,1]\n",
    "RMSE = sqrt(sklearn.metrics.mean_squared_error(y_test, y_predict))\n",
    "MAE = sklearn.metrics.mean_absolute_error(y_test, y_predict)\n",
    "print(\"Results for Random Forest:\")\n",
    "print('r:{}, R2:{}, RMSE:{}, MAE:{}'.format(r,R2,RMSE, MAE))"
   ]
  },
  {
   "cell_type": "markdown",
   "metadata": {
    "id": "Ulr8fywNjj1l"
   },
   "source": [
    "## SVR"
   ]
  },
  {
   "cell_type": "markdown",
   "metadata": {
    "id": "y_WRJnE43xce"
   },
   "source": [
    "#### Parameter Tuning"
   ]
  },
  {
   "cell_type": "code",
   "execution_count": 7,
   "metadata": {
    "colab": {
     "base_uri": "https://localhost:8080/"
    },
    "executionInfo": {
     "elapsed": 36067,
     "status": "ok",
     "timestamp": 1607792639785,
     "user": {
      "displayName": "Marija Lazaroska",
      "photoUrl": "",
      "userId": "00449803403702504522"
     },
     "user_tz": -60
    },
    "id": "nYQoD3xVsJXP",
    "outputId": "fc0558b0-31d9-4cb6-c2e0-fd1887caa63f"
   },
   "outputs": [
    {
     "name": "stdout",
     "output_type": "stream",
     "text": [
      "Best Parameters for 0 fold: {'C': 1, 'gamma': 1}\n",
      "fold:0, r:0.9188698063108378, R2:0.8201644560155981, RMSE:0.0013945114638559532, MAE:0.02848113716997249\n",
      "Best Parameters for 1 fold: {'C': 10, 'gamma': 1}\n",
      "fold:1, r:0.8916766949479635, R2:0.7913720104925872, RMSE:0.0013816424393529778, MAE:0.028401352656756845\n",
      "Best Parameters for 2 fold: {'C': 100, 'gamma': 1}\n",
      "fold:2, r:0.9232420629420808, R2:0.840003275142291, RMSE:0.0012329267098044787, MAE:0.028421668100620773\n",
      "Best Parameters for 3 fold: {'C': 10, 'gamma': 0.1}\n",
      "fold:3, r:0.9306078407784225, R2:0.8528489978427831, RMSE:0.0012933923954918589, MAE:0.028812897430734417\n",
      "Best Parameters for 4 fold: {'C': 10, 'gamma': 1}\n",
      "fold:4, r:0.9162758574561345, R2:0.8296247719308203, RMSE:0.0011314327718641567, MAE:0.02632766682339098\n",
      "Best Parameters for 5 fold: {'C': 100, 'gamma': 1}\n",
      "fold:5, r:0.9017000577933119, R2:0.8041959563240382, RMSE:0.0014223396617304965, MAE:0.029564657603265408\n",
      "Best Parameters for 6 fold: {'C': 100, 'gamma': 1}\n",
      "fold:6, r:0.9090129040080678, R2:0.8114733381469312, RMSE:0.001248228990714362, MAE:0.02840872283605572\n",
      "Best Parameters for 7 fold: {'C': 10, 'gamma': 1}\n",
      "fold:7, r:0.9089400674857359, R2:0.8232355098291333, RMSE:0.0014209995435381711, MAE:0.029811575236000525\n",
      "Best Parameters for 8 fold: {'C': 100, 'gamma': 1}\n",
      "fold:8, r:0.9167251115766796, R2:0.8232041440392487, RMSE:0.0013036679763954431, MAE:0.028575366706125382\n",
      "Best Parameters for 9 fold: {'C': 100, 'gamma': 1}\n",
      "fold:9, r:0.9161464891963685, R2:0.8373566737660514, RMSE:0.001273395975263188, MAE:0.027666597578546514\n",
      "Best results:\n",
      " r =0.9306078407784225 in i=3,\n",
      " R2=0.8528489978427831 in i=3,\n",
      " RMSE=0.0011314327718641567 in i=4,\n",
      " MAE=0.02632766682339098 in fold=4\n"
     ]
    },
    {
     "data": {
      "text/plain": [
       "(0.9306078407784225,\n",
       " 0.8528489978427831,\n",
       " 0.0011314327718641567,\n",
       " 0.02632766682339098,\n",
       " [{'C': 10, 'gamma': 0.1},\n",
       "  {'C': 10, 'gamma': 0.1},\n",
       "  {'C': 10, 'gamma': 1},\n",
       "  {'C': 10, 'gamma': 1}])"
      ]
     },
     "execution_count": 7,
     "metadata": {},
     "output_type": "execute_result"
    }
   ],
   "source": [
    "from sklearn.svm import SVR\n",
    "\n",
    "crossvalidation(X_train,y_train, SVR(), \"SVR\", dict(C=[1,10,100], gamma=[0.001,0.01,0.1,1]), 10)"
   ]
  },
  {
   "cell_type": "markdown",
   "metadata": {
    "id": "rdALBzwH4ark"
   },
   "source": [
    "#### Testing the model"
   ]
  },
  {
   "cell_type": "code",
   "execution_count": 8,
   "metadata": {
    "colab": {
     "base_uri": "https://localhost:8080/"
    },
    "executionInfo": {
     "elapsed": 1514,
     "status": "ok",
     "timestamp": 1607792675175,
     "user": {
      "displayName": "Marija Lazaroska",
      "photoUrl": "",
      "userId": "00449803403702504522"
     },
     "user_tz": -60
    },
    "id": "vQu_hyb23zkr",
    "outputId": "725902dd-1ece-458e-90b3-e0793c589ffa"
   },
   "outputs": [
    {
     "name": "stdout",
     "output_type": "stream",
     "text": [
      "Results for SVR:\n",
      "r:0.9077087571863297, R2:0.8164300433587737, RMSE:0.036698375689317116, MAE:0.029449006558468035\n"
     ]
    }
   ],
   "source": [
    "regressor = SVR(C=10, gamma=1)\n",
    "regressor.fit(X_train,np.ravel(y_train))\n",
    "y_predict = regressor.predict(X_test)\n",
    "R2 = regressor.score(X_test,y_test)\n",
    "r = np.corrcoef(np.ravel(y_test), y_predict)[0,1]\n",
    "RMSE = sqrt(sklearn.metrics.mean_squared_error(y_test, y_predict))\n",
    "MAE = sklearn.metrics.mean_absolute_error(y_test, y_predict)\n",
    "print(\"Results for SVR:\")\n",
    "print('r:{}, R2:{}, RMSE:{}, MAE:{}'.format(r,R2,RMSE, MAE))"
   ]
  },
  {
   "cell_type": "markdown",
   "metadata": {
    "id": "_Yn2GF269Rnk"
   },
   "source": [
    "# Ridge Regression"
   ]
  },
  {
   "cell_type": "markdown",
   "metadata": {
    "id": "q2qDHaH09ax_"
   },
   "source": [
    "#### Parameter Tuning"
   ]
  },
  {
   "cell_type": "code",
   "execution_count": null,
   "metadata": {
    "colab": {
     "base_uri": "https://localhost:8080/"
    },
    "executionInfo": {
     "elapsed": 4100,
     "status": "ok",
     "timestamp": 1607792689644,
     "user": {
      "displayName": "Marija Lazaroska",
      "photoUrl": "",
      "userId": "00449803403702504522"
     },
     "user_tz": -60
    },
    "id": "rfvKiuuc9dV3",
    "outputId": "675c432d-35a7-4660-ec3a-a80fdcc63ec5"
   },
   "outputs": [
    {
     "name": "stdout",
     "output_type": "stream",
     "text": [
      "Best Parameters for 0 fold: {'alpha': 0.1}\n",
      "fold:0, r:0.9153017367454845, R2:0.8372887478691551, RMSE:0.001398513758382562, MAE:0.02907887437651101\n",
      "Best Parameters for 1 fold: {'alpha': 0.1}\n",
      "fold:1, r:0.9128264354793488, R2:0.832037615914693, RMSE:0.0012854429256478124, MAE:0.02719995148651939\n",
      "Best Parameters for 2 fold: {'alpha': 0.1}\n",
      "fold:2, r:0.9136880318119727, R2:0.8342239849027989, RMSE:0.001211483587606783, MAE:0.027650269639583284\n",
      "Best Parameters for 3 fold: {'alpha': 0.1}\n",
      "fold:3, r:0.9193053309585936, R2:0.8439796802017002, RMSE:0.0011518641461016371, MAE:0.026100815068034806\n",
      "Best Parameters for 4 fold: {'alpha': 0.1}\n",
      "fold:4, r:0.9078000108155344, R2:0.8228511142224006, RMSE:0.0014039432597005375, MAE:0.028772471352192314\n",
      "Best Parameters for 5 fold: {'alpha': 0.1}\n",
      "fold:5, r:0.9094079782747303, R2:0.8263069954255635, RMSE:0.001265468806398449, MAE:0.0287329287141101\n",
      "Best Parameters for 6 fold: {'alpha': 0.1}\n",
      "fold:6, r:0.8814381309161061, R2:0.769692077825772, RMSE:0.00138560184779116, MAE:0.02970008529663687\n",
      "Best Parameters for 7 fold: {'alpha': 0.1}\n",
      "fold:7, r:0.9029031984952405, R2:0.8103019218739044, RMSE:0.0012411663140670312, MAE:0.027302711288388428\n",
      "Best Parameters for 8 fold: {'alpha': 0.1}\n",
      "fold:8, r:0.8711006211625792, R2:0.7584747391240622, RMSE:0.0016724304559870794, MAE:0.03155318729026253\n",
      "Best Parameters for 9 fold: {'alpha': 0.1}\n",
      "fold:9, r:0.917433400101761, R2:0.8395986613121114, RMSE:0.0014941689563422462, MAE:0.02820343168228808\n",
      "Best results:\n",
      " r =0.9193053309585936 in i=3,\n",
      " R2=0.8439796802017002 in i=3,\n",
      " RMSE=0.0011518641461016371 in i=3,\n",
      " MAE=0.026100815068034806 in fold=3\n"
     ]
    },
    {
     "data": {
      "text/plain": [
       "(0.9193053309585936,\n",
       " 0.8439796802017002,\n",
       " 0.0011518641461016371,\n",
       " 0.026100815068034806,\n",
       " [{'alpha': 0.1}, {'alpha': 0.1}, {'alpha': 0.1}, {'alpha': 0.1}])"
      ]
     },
     "execution_count": 24,
     "metadata": {
      "tags": []
     },
     "output_type": "execute_result"
    }
   ],
   "source": [
    "from sklearn.linear_model import Ridge\n",
    "\n",
    "crossvalidation(X_train,y_train, Ridge(), \"Ridge Regression\", dict(alpha=[0.001,0.01, 0.1]), 10)"
   ]
  },
  {
   "cell_type": "markdown",
   "metadata": {
    "id": "JAfsfbb09c2a"
   },
   "source": [
    "#### Testing the model"
   ]
  },
  {
   "cell_type": "code",
   "execution_count": null,
   "metadata": {
    "colab": {
     "base_uri": "https://localhost:8080/"
    },
    "executionInfo": {
     "elapsed": 1991,
     "status": "ok",
     "timestamp": 1607792704379,
     "user": {
      "displayName": "Marija Lazaroska",
      "photoUrl": "",
      "userId": "00449803403702504522"
     },
     "user_tz": -60
    },
    "id": "9f2hACXE9dyr",
    "outputId": "c210a293-b42f-4bd0-fb12-cacef59cbcc0"
   },
   "outputs": [
    {
     "name": "stdout",
     "output_type": "stream",
     "text": [
      "Results for Ridge Regression:\n",
      "r:0.8968434602682603, R2:0.8033789130663713, RMSE:0.03757787891539698, MAE:0.029032660688129756\n"
     ]
    }
   ],
   "source": [
    "regressor = Ridge(alpha=0.1)\n",
    "regressor.fit(X_train,np.ravel(y_train))\n",
    "y_predict = regressor.predict(X_test)\n",
    "R2 = regressor.score(X_test,y_test)\n",
    "r = np.corrcoef(np.ravel(y_test), y_predict)[0,1]\n",
    "RMSE = sqrt(sklearn.metrics.mean_squared_error(y_test, y_predict))\n",
    "MAE = sklearn.metrics.mean_absolute_error(y_test, y_predict)\n",
    "print(\"Results for Ridge Regression:\")\n",
    "print('r:{}, R2:{}, RMSE:{}, MAE:{}'.format(r,R2,RMSE, MAE))"
   ]
  },
  {
   "cell_type": "markdown",
   "metadata": {
    "id": "Tz46v734-NK4"
   },
   "source": [
    "# Gradient Boosting"
   ]
  },
  {
   "cell_type": "markdown",
   "metadata": {
    "id": "0Q8IJR9w-W_D"
   },
   "source": [
    "#### Parameter Tuning"
   ]
  },
  {
   "cell_type": "code",
   "execution_count": null,
   "metadata": {
    "colab": {
     "base_uri": "https://localhost:8080/"
    },
    "executionInfo": {
     "elapsed": 9994756,
     "status": "ok",
     "timestamp": 1607820352599,
     "user": {
      "displayName": "Marija Lazaroska",
      "photoUrl": "",
      "userId": "00449803403702504522"
     },
     "user_tz": -60
    },
    "id": "ogLFuvkj-YE5",
    "outputId": "fcccf4af-8517-4b62-9a43-f5e1b91bf938"
   },
   "outputs": [
    {
     "name": "stdout",
     "output_type": "stream",
     "text": [
      "Best Parameters for 0 fold: {'learning_rate': 0.1, 'n_estimators': 1000}\n",
      "fold:0, r:0.957141489689406, R2:0.9159748444862165, RMSE:0.0006302847080024128, MAE:0.01937678232198121\n",
      "Best Parameters for 1 fold: {'learning_rate': 0.1, 'n_estimators': 1000}\n",
      "fold:1, r:0.9637114925793848, R2:0.9271436995688056, RMSE:0.0006881515729795329, MAE:0.02077889104468467\n",
      "Best Parameters for 2 fold: {'learning_rate': 0.1, 'n_estimators': 1000}\n",
      "fold:2, r:0.9578386267469311, R2:0.9170156365385005, RMSE:0.0006432781587828538, MAE:0.019580416115716058\n",
      "Best Parameters for 3 fold: {'learning_rate': 0.1, 'n_estimators': 1000}\n",
      "fold:3, r:0.947657514488872, R2:0.8975491632740051, RMSE:0.0007006850528661222, MAE:0.020521040046334132\n",
      "Best Parameters for 4 fold: {'learning_rate': 0.1, 'n_estimators': 1000}\n",
      "fold:4, r:0.949551824587114, R2:0.9014756386800322, RMSE:0.0006638456925921475, MAE:0.020311048385555322\n",
      "Best Parameters for 5 fold: {'learning_rate': 0.1, 'n_estimators': 1000}\n",
      "fold:5, r:0.9552463233653969, R2:0.909015369482767, RMSE:0.000643501662531287, MAE:0.019383316626376382\n",
      "Best Parameters for 6 fold: {'learning_rate': 0.1, 'n_estimators': 1000}\n",
      "fold:6, r:0.9557435625074776, R2:0.9130503989300905, RMSE:0.0006007729828754824, MAE:0.019103844134928986\n",
      "Best Parameters for 7 fold: {'learning_rate': 0.1, 'n_estimators': 1000}\n",
      "fold:7, r:0.9555193062762164, R2:0.9112283362826181, RMSE:0.0006354812679707662, MAE:0.01971018731662931\n",
      "Best Parameters for 8 fold: {'learning_rate': 0.1, 'n_estimators': 1000}\n",
      "fold:8, r:0.9582112688576157, R2:0.9176532488829037, RMSE:0.0006249848739666858, MAE:0.019722148266416547\n",
      "Best Parameters for 9 fold: {'learning_rate': 0.1, 'n_estimators': 1000}\n",
      "fold:9, r:0.9452330243946406, R2:0.8921265965596544, RMSE:0.0007198334257221429, MAE:0.020815789159732142\n",
      "Best results:\n",
      " r =0.9637114925793848 in i=1,\n",
      " R2=0.9271436995688056 in i=1,\n",
      " RMSE=0.0006007729828754824 in i=6,\n",
      " MAE=0.019103844134928986 in fold=6\n"
     ]
    },
    {
     "data": {
      "text/plain": [
       "(0.9637114925793848,\n",
       " 0.9271436995688056,\n",
       " 0.0006007729828754824,\n",
       " 0.019103844134928986,\n",
       " [{'learning_rate': 0.1, 'n_estimators': 1000},\n",
       "  {'learning_rate': 0.1, 'n_estimators': 1000},\n",
       "  {'learning_rate': 0.1, 'n_estimators': 1000},\n",
       "  {'learning_rate': 0.1, 'n_estimators': 1000}])"
      ]
     },
     "execution_count": 11,
     "metadata": {
      "tags": []
     },
     "output_type": "execute_result"
    }
   ],
   "source": [
    "from sklearn.ensemble import GradientBoostingRegressor\n",
    "\n",
    "crossvalidation(X_train,y_train, GradientBoostingRegressor(), \"Gradient Boosting\", dict(learning_rate=[0.001,0.01,0.1,1],n_estimators=[1000,1750,2500,3000]), 10)"
   ]
  },
  {
   "cell_type": "markdown",
   "metadata": {
    "id": "TyWgyhI7-Xrc"
   },
   "source": [
    "#### Testing the model"
   ]
  },
  {
   "cell_type": "code",
   "execution_count": null,
   "metadata": {
    "colab": {
     "base_uri": "https://localhost:8080/"
    },
    "executionInfo": {
     "elapsed": 7096,
     "status": "ok",
     "timestamp": 1607820410837,
     "user": {
      "displayName": "Marija Lazaroska",
      "photoUrl": "",
      "userId": "00449803403702504522"
     },
     "user_tz": -60
    },
    "id": "0kkx9UgF_IEK",
    "outputId": "de43f98f-503a-4df4-91c9-cd97b67f8b4e"
   },
   "outputs": [
    {
     "name": "stdout",
     "output_type": "stream",
     "text": [
      "Results for Gradient Boosting:\n",
      "r:0.9563145341408525, R2:0.9143962728533649, RMSE:0.025764945036356936, MAE:0.02003376158504617\n"
     ]
    }
   ],
   "source": [
    "regressor = GradientBoostingRegressor(learning_rate=0.1,n_estimators=1000)\n",
    "regressor.fit(X_train,np.ravel(y_train))\n",
    "y_predict = regressor.predict(X_test)\n",
    "R2 = regressor.score(X_test,y_test)\n",
    "r = np.corrcoef(np.ravel(y_test), y_predict)[0,1]\n",
    "RMSE = sqrt(sklearn.metrics.mean_squared_error(y_test, y_predict))\n",
    "MAE = sklearn.metrics.mean_absolute_error(y_test, y_predict)\n",
    "print(\"Results for Gradient Boosting:\")\n",
    "print('r:{}, R2:{}, RMSE:{}, MAE:{}'.format(r,R2,RMSE, MAE))"
   ]
  }
 ],
 "metadata": {
  "colab": {
   "collapsed_sections": [
    "U0UiWHGB3qjW",
    "rdALBzwH4ark",
    "JAfsfbb09c2a",
    "TyWgyhI7-Xrc",
    "HaVmZ8ijzbDs"
   ],
   "name": "GridSearchTest_MinMax.ipynb",
   "provenance": [],
   "toc_visible": true
  },
  "kernelspec": {
   "display_name": "Python [conda env:ada] *",
   "language": "python",
   "name": "conda-env-ada-py"
  },
  "language_info": {
   "codemirror_mode": {
    "name": "ipython",
    "version": 3
   },
   "file_extension": ".py",
   "mimetype": "text/x-python",
   "name": "python",
   "nbconvert_exporter": "python",
   "pygments_lexer": "ipython3",
   "version": "3.8.5"
  }
 },
 "nbformat": 4,
 "nbformat_minor": 4
}
