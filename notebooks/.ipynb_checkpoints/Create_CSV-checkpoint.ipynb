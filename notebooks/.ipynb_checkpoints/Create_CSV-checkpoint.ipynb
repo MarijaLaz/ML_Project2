{
 "cells": [
  {
   "cell_type": "markdown",
   "metadata": {
    "id": "QCj0OREq8B49"
   },
   "source": [
    "# Notebook that generates csv files\n"
   ]
  },
  {
   "cell_type": "markdown",
   "metadata": {
    "id": "Nnoo3Ze78XFl"
   },
   "source": [
    "By using the HEMODB.csv file we generate 3 csv files:\n",
    "- u1.csv including : brSBP, brDBP, HR, cfPWV\n",
    "- u2.csv including : brSBP, brDBP, HR, cfPWV, EF\n",
    "- true_ees.csv containing the Ees values which are the labels"
   ]
  },
  {
   "cell_type": "code",
   "execution_count": 1,
   "metadata": {
    "executionInfo": {
     "elapsed": 503,
     "status": "ok",
     "timestamp": 1608146199152,
     "user": {
      "displayName": "Marija Lazaroska",
      "photoUrl": "",
      "userId": "00449803403702504522"
     },
     "user_tz": -60
    },
    "id": "tFX_yYo18Wjv"
   },
   "outputs": [],
   "source": [
    "import pandas as pd"
   ]
  },
  {
   "cell_type": "code",
   "execution_count": 2,
   "metadata": {
    "executionInfo": {
     "elapsed": 584,
     "status": "ok",
     "timestamp": 1608146250050,
     "user": {
      "displayName": "Marija Lazaroska",
      "photoUrl": "",
      "userId": "00449803403702504522"
     },
     "user_tz": -60
    },
    "id": "RHJHZSv-7qqZ"
   },
   "outputs": [],
   "source": [
    "HEMODB_PATH = '../Data/HEMODB.csv'"
   ]
  },
  {
   "cell_type": "code",
   "execution_count": 3,
   "metadata": {
    "executionInfo": {
     "elapsed": 466,
     "status": "ok",
     "timestamp": 1608146297482,
     "user": {
      "displayName": "Marija Lazaroska",
      "photoUrl": "",
      "userId": "00449803403702504522"
     },
     "user_tz": -60
    },
    "id": "dQYxKI_1-sn8"
   },
   "outputs": [],
   "source": [
    "hemodb_df = pd.read_csv(HEMODB_PATH,\";\").set_index(\"ID\")"
   ]
  },
  {
   "cell_type": "code",
   "execution_count": 4,
   "metadata": {
    "executionInfo": {
     "elapsed": 499,
     "status": "ok",
     "timestamp": 1608147361969,
     "user": {
      "displayName": "Marija Lazaroska",
      "photoUrl": "",
      "userId": "00449803403702504522"
     },
     "user_tz": -60
    },
    "id": "zX_Vg2CkCumj"
   },
   "outputs": [],
   "source": [
    "hemodb_df['Heart rate'].fillna((hemodb_df['Heart rate'].mean()), inplace=True)"
   ]
  },
  {
   "cell_type": "code",
   "execution_count": 5,
   "metadata": {},
   "outputs": [
    {
     "data": {
      "text/html": [
       "<div>\n",
       "<style scoped>\n",
       "    .dataframe tbody tr th:only-of-type {\n",
       "        vertical-align: middle;\n",
       "    }\n",
       "\n",
       "    .dataframe tbody tr th {\n",
       "        vertical-align: top;\n",
       "    }\n",
       "\n",
       "    .dataframe thead th {\n",
       "        text-align: right;\n",
       "    }\n",
       "</style>\n",
       "<table border=\"1\" class=\"dataframe\">\n",
       "  <thead>\n",
       "    <tr style=\"text-align: right;\">\n",
       "      <th></th>\n",
       "      <th>Brachial SBP</th>\n",
       "      <th>Brachial DBP</th>\n",
       "      <th>Brachial PP</th>\n",
       "      <th>MAP</th>\n",
       "      <th>Heart rate</th>\n",
       "      <th>Carotid-to-femoral PWV</th>\n",
       "      <th>Stroke volume</th>\n",
       "      <th>Ejection fraction</th>\n",
       "      <th>Central SBP</th>\n",
       "      <th>End-systolic elastance</th>\n",
       "      <th>End-diastolic elastance</th>\n",
       "      <th>Ejection duration</th>\n",
       "      <th>Unnamed: 13</th>\n",
       "      <th>Unnamed: 14</th>\n",
       "      <th>Unnamed: 15</th>\n",
       "    </tr>\n",
       "    <tr>\n",
       "      <th>ID</th>\n",
       "      <th></th>\n",
       "      <th></th>\n",
       "      <th></th>\n",
       "      <th></th>\n",
       "      <th></th>\n",
       "      <th></th>\n",
       "      <th></th>\n",
       "      <th></th>\n",
       "      <th></th>\n",
       "      <th></th>\n",
       "      <th></th>\n",
       "      <th></th>\n",
       "      <th></th>\n",
       "      <th></th>\n",
       "      <th></th>\n",
       "    </tr>\n",
       "  </thead>\n",
       "  <tbody>\n",
       "    <tr>\n",
       "      <th>1</th>\n",
       "      <td>98.328</td>\n",
       "      <td>73.229</td>\n",
       "      <td>25.098</td>\n",
       "      <td>81.595</td>\n",
       "      <td>85.608000</td>\n",
       "      <td>6.2060</td>\n",
       "      <td>50.896</td>\n",
       "      <td>48.893</td>\n",
       "      <td>91.399</td>\n",
       "      <td>314000000.0</td>\n",
       "      <td>15600000.0</td>\n",
       "      <td>0.15849</td>\n",
       "      <td>NaN</td>\n",
       "      <td>NaN</td>\n",
       "      <td>NaN</td>\n",
       "    </tr>\n",
       "    <tr>\n",
       "      <th>2</th>\n",
       "      <td>87.134</td>\n",
       "      <td>64.596</td>\n",
       "      <td>22.538</td>\n",
       "      <td>72.109</td>\n",
       "      <td>74.166000</td>\n",
       "      <td>5.8806</td>\n",
       "      <td>51.110</td>\n",
       "      <td>48.303</td>\n",
       "      <td>80.663</td>\n",
       "      <td>269000000.0</td>\n",
       "      <td>18800000.0</td>\n",
       "      <td>0.15855</td>\n",
       "      <td>NaN</td>\n",
       "      <td>NaN</td>\n",
       "      <td>NaN</td>\n",
       "    </tr>\n",
       "    <tr>\n",
       "      <th>3</th>\n",
       "      <td>85.728</td>\n",
       "      <td>65.301</td>\n",
       "      <td>20.427</td>\n",
       "      <td>72.110</td>\n",
       "      <td>86.010000</td>\n",
       "      <td>6.0619</td>\n",
       "      <td>45.413</td>\n",
       "      <td>41.588</td>\n",
       "      <td>79.826</td>\n",
       "      <td>220000000.0</td>\n",
       "      <td>18800000.0</td>\n",
       "      <td>0.16826</td>\n",
       "      <td>NaN</td>\n",
       "      <td>NaN</td>\n",
       "      <td>NaN</td>\n",
       "    </tr>\n",
       "    <tr>\n",
       "      <th>4</th>\n",
       "      <td>87.308</td>\n",
       "      <td>68.627</td>\n",
       "      <td>18.681</td>\n",
       "      <td>74.854</td>\n",
       "      <td>82.570492</td>\n",
       "      <td>5.9547</td>\n",
       "      <td>45.091</td>\n",
       "      <td>39.257</td>\n",
       "      <td>81.771</td>\n",
       "      <td>204000000.0</td>\n",
       "      <td>16500000.0</td>\n",
       "      <td>0.18353</td>\n",
       "      <td>NaN</td>\n",
       "      <td>NaN</td>\n",
       "      <td>NaN</td>\n",
       "    </tr>\n",
       "    <tr>\n",
       "      <th>5</th>\n",
       "      <td>83.572</td>\n",
       "      <td>65.532</td>\n",
       "      <td>18.040</td>\n",
       "      <td>71.545</td>\n",
       "      <td>97.197000</td>\n",
       "      <td>5.7352</td>\n",
       "      <td>41.302</td>\n",
       "      <td>39.403</td>\n",
       "      <td>78.667</td>\n",
       "      <td>219000000.0</td>\n",
       "      <td>17300000.0</td>\n",
       "      <td>0.11478</td>\n",
       "      <td>NaN</td>\n",
       "      <td>NaN</td>\n",
       "      <td>NaN</td>\n",
       "    </tr>\n",
       "  </tbody>\n",
       "</table>\n",
       "</div>"
      ],
      "text/plain": [
       "    Brachial SBP  Brachial DBP  Brachial PP     MAP  Heart rate  \\\n",
       "ID                                                                \n",
       "1         98.328        73.229       25.098  81.595   85.608000   \n",
       "2         87.134        64.596       22.538  72.109   74.166000   \n",
       "3         85.728        65.301       20.427  72.110   86.010000   \n",
       "4         87.308        68.627       18.681  74.854   82.570492   \n",
       "5         83.572        65.532       18.040  71.545   97.197000   \n",
       "\n",
       "    Carotid-to-femoral PWV  Stroke volume  Ejection fraction  Central SBP  \\\n",
       "ID                                                                          \n",
       "1                   6.2060         50.896             48.893       91.399   \n",
       "2                   5.8806         51.110             48.303       80.663   \n",
       "3                   6.0619         45.413             41.588       79.826   \n",
       "4                   5.9547         45.091             39.257       81.771   \n",
       "5                   5.7352         41.302             39.403       78.667   \n",
       "\n",
       "    End-systolic elastance  End-diastolic elastance  Ejection duration  \\\n",
       "ID                                                                       \n",
       "1              314000000.0               15600000.0            0.15849   \n",
       "2              269000000.0               18800000.0            0.15855   \n",
       "3              220000000.0               18800000.0            0.16826   \n",
       "4              204000000.0               16500000.0            0.18353   \n",
       "5              219000000.0               17300000.0            0.11478   \n",
       "\n",
       "    Unnamed: 13  Unnamed: 14  Unnamed: 15  \n",
       "ID                                         \n",
       "1           NaN          NaN          NaN  \n",
       "2           NaN          NaN          NaN  \n",
       "3           NaN          NaN          NaN  \n",
       "4           NaN          NaN          NaN  \n",
       "5           NaN          NaN          NaN  "
      ]
     },
     "execution_count": 5,
     "metadata": {},
     "output_type": "execute_result"
    }
   ],
   "source": [
    "hemodb_df.head()"
   ]
  },
  {
   "cell_type": "code",
   "execution_count": 6,
   "metadata": {
    "executionInfo": {
     "elapsed": 495,
     "status": "ok",
     "timestamp": 1608147363139,
     "user": {
      "displayName": "Marija Lazaroska",
      "photoUrl": "",
      "userId": "00449803403702504522"
     },
     "user_tz": -60
    },
    "id": "YnCJokkl_Jo2"
   },
   "outputs": [],
   "source": [
    "u1_df = hemodb_df[[\"Brachial SBP\",\"Brachial DBP\",\"Heart rate\",\"Carotid-to-femoral PWV\"]]\n",
    "u2_df = hemodb_df[[\"Brachial SBP\",\"Brachial DBP\",\"Heart rate\",\"Carotid-to-femoral PWV\",\"Ejection fraction\"]]\n",
    "ees_df = hemodb_df[[\"End-systolic elastance\"]]"
   ]
  },
  {
   "cell_type": "code",
   "execution_count": 7,
   "metadata": {
    "executionInfo": {
     "elapsed": 488,
     "status": "ok",
     "timestamp": 1608147364810,
     "user": {
      "displayName": "Marija Lazaroska",
      "photoUrl": "",
      "userId": "00449803403702504522"
     },
     "user_tz": -60
    },
    "id": "b93L2IGk_K9t"
   },
   "outputs": [],
   "source": [
    "u1_df = u1_df.rename(columns={'Brachial SBP': 'brSBP',\"Brachial DBP\":\"brDBP\",\"Heart rate\":\"HR\",\"Carotid-to-femoral PWV\":\"cfPWV\"})\n",
    "u2_df = u2_df.rename(columns={'Brachial SBP': 'brSBP',\"Brachial DBP\":\"brDBP\",\"Heart rate\":\"HR\",\"Carotid-to-femoral PWV\":\"cfPWV\",\"Ejection fraction\":\"EF\"})\n",
    "ees_df = ees_df.rename(columns={'End-systolic elastance': 'EES'})"
   ]
  },
  {
   "cell_type": "code",
   "execution_count": 8,
   "metadata": {
    "executionInfo": {
     "elapsed": 654,
     "status": "ok",
     "timestamp": 1608147571152,
     "user": {
      "displayName": "Marija Lazaroska",
      "photoUrl": "",
      "userId": "00449803403702504522"
     },
     "user_tz": -60
    },
    "id": "dWVH7a5tAJxj"
   },
   "outputs": [],
   "source": [
    "u1_df.to_csv(\"../Data/u1.csv\")\n",
    "u2_df.to_csv(\"../Data/u2.csv\")\n",
    "ees_df.to_csv(\"../true_ees.csv\")"
   ]
  }
 ],
 "metadata": {
  "colab": {
   "authorship_tag": "ABX9TyMLSwDHxeA275Cop4JrZtXe",
   "name": "Create_CSV.ipynb",
   "provenance": []
  },
  "kernelspec": {
   "display_name": "Python [conda env:ada] *",
   "language": "python",
   "name": "conda-env-ada-py"
  },
  "language_info": {
   "codemirror_mode": {
    "name": "ipython",
    "version": 3
   },
   "file_extension": ".py",
   "mimetype": "text/x-python",
   "name": "python",
   "nbconvert_exporter": "python",
   "pygments_lexer": "ipython3",
   "version": "3.8.5"
  }
 },
 "nbformat": 4,
 "nbformat_minor": 4
}
