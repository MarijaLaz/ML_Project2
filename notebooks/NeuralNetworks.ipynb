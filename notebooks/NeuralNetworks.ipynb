{
 "cells": [
  {
   "cell_type": "markdown",
   "metadata": {
    "id": "HRO6kj35U-tb"
   },
   "source": [
    "# 1D Convolution NN\n",
    "\n"
   ]
  },
  {
   "cell_type": "markdown",
   "metadata": {
    "id": "sU2ovPVjdASB"
   },
   "source": [
    "### Using only the raw brachial waveforms --> 1 channel"
   ]
  },
  {
   "cell_type": "code",
   "execution_count": 1,
   "metadata": {
    "executionInfo": {
     "elapsed": 1337,
     "status": "ok",
     "timestamp": 1608048370890,
     "user": {
      "displayName": "Marija Lazaroska",
      "photoUrl": "",
      "userId": "00449803403702504522"
     },
     "user_tz": -60
    },
    "id": "OtUnhCymO8lj"
   },
   "outputs": [],
   "source": [
    "%matplotlib inline\n",
    "import sys\n",
    "sys.path.append('../')\n",
    "import torch\n",
    "import torchvision\n",
    "import torch.nn as nn\n",
    "import torch.optim as optim\n",
    "import numpy as np\n",
    "import pandas as pd\n",
    "from scripts.helpers import *\n",
    "from scripts.NN_helpers import *\n",
    "import matplotlib.pyplot as plt\n",
    "from sklearn.metrics import r2_score\n",
    "from sklearn.metrics import mean_squared_error"
   ]
  },
  {
   "cell_type": "markdown",
   "metadata": {
    "id": "tUbe05QOPf_F"
   },
   "source": [
    "Load Data"
   ]
  },
  {
   "cell_type": "code",
   "execution_count": 2,
   "metadata": {
    "executionInfo": {
     "elapsed": 715,
     "status": "ok",
     "timestamp": 1608048373504,
     "user": {
      "displayName": "Marija Lazaroska",
      "photoUrl": "",
      "userId": "00449803403702504522"
     },
     "user_tz": -60
    },
    "id": "0bMU47gkPh7X"
   },
   "outputs": [],
   "source": [
    "#radial waveforms\n",
    "RWF_PATH = \"../Data/radial_BP_waveforms_HEMODB.csv\"\n",
    "#brachial waveforms\n",
    "BWF_PATH = \"../Data/brachial_BP_waveforms_HEMODB.csv\"\n",
    "#features brSBP, brDBP, HR, cfPWV\n",
    "U1_PATH = \"../Data/u1.csv\"\n",
    "#labels\n",
    "EES_PATH = \"../Data/true_ees.csv\""
   ]
  },
  {
   "cell_type": "code",
   "execution_count": 3,
   "metadata": {
    "executionInfo": {
     "elapsed": 1238,
     "status": "ok",
     "timestamp": 1608048375263,
     "user": {
      "displayName": "Marija Lazaroska",
      "photoUrl": "",
      "userId": "00449803403702504522"
     },
     "user_tz": -60
    },
    "id": "opylUq2JPou-"
   },
   "outputs": [],
   "source": [
    "rd_waveform = pd.read_csv(RWF_PATH, sep=';').set_index(\"ID\")\n",
    "rd_waveform = rd_waveform.loc[:, (rd_waveform != 0).any(axis=0)] #drop all-0 columns\n",
    "\n",
    "br_waveform = pd.read_csv(BWF_PATH, sep=';').set_index(\"ID\")\n",
    "br_waveform = br_waveform.loc[:, (br_waveform != 0).any(axis=0)] #drop all-0 columns\n",
    "\n",
    "u1_data = pd.read_csv(U1_PATH).set_index(\"ID\")\n",
    "ees = pd.read_csv(EES_PATH).set_index(\"ID\")\n",
    "ees = inverse(ees) # the ees value in the csv file is its inverse"
   ]
  },
  {
   "cell_type": "markdown",
   "metadata": {
    "id": "-vRCW9joVOec"
   },
   "source": [
    "Splitting data to :\n",
    "\n",
    "*   Train set 80%\n",
    "*   Test set 20%\n",
    "\n",
    "\n"
   ]
  },
  {
   "cell_type": "code",
   "execution_count": 4,
   "metadata": {
    "executionInfo": {
     "elapsed": 621,
     "status": "ok",
     "timestamp": 1608049112854,
     "user": {
      "displayName": "Marija Lazaroska",
      "photoUrl": "",
      "userId": "00449803403702504522"
     },
     "user_tz": -60
    },
    "id": "s7RzqcCHK6yh"
   },
   "outputs": [],
   "source": [
    "from sklearn.model_selection import train_test_split\n",
    "X_train, X_test, y_train, y_test = train_test_split(np.array(br_waveform).reshape(br_waveform.shape[0],1,br_waveform.shape[1]), ees, test_size = 0.20)"
   ]
  },
  {
   "cell_type": "code",
   "execution_count": 5,
   "metadata": {
    "colab": {
     "base_uri": "https://localhost:8080/"
    },
    "executionInfo": {
     "elapsed": 704,
     "status": "ok",
     "timestamp": 1608049120612,
     "user": {
      "displayName": "Marija Lazaroska",
      "photoUrl": "",
      "userId": "00449803403702504522"
     },
     "user_tz": -60
    },
    "id": "QEiaOvlJRbX5",
    "outputId": "bac76f5f-bf40-4cc9-f1ac-1def77b345fa"
   },
   "outputs": [
    {
     "data": {
      "text/plain": [
       "(3214, 1, 80)"
      ]
     },
     "execution_count": 5,
     "metadata": {},
     "output_type": "execute_result"
    }
   ],
   "source": [
    "X_train.shape"
   ]
  },
  {
   "cell_type": "markdown",
   "metadata": {
    "id": "9fhfgBS329o0"
   },
   "source": [
    "## Training and Results\n"
   ]
  },
  {
   "cell_type": "code",
   "execution_count": 12,
   "metadata": {
    "colab": {
     "base_uri": "https://localhost:8080/"
    },
    "executionInfo": {
     "elapsed": 920,
     "status": "ok",
     "timestamp": 1608049122368,
     "user": {
      "displayName": "Marija Lazaroska",
      "photoUrl": "",
      "userId": "00449803403702504522"
     },
     "user_tz": -60
    },
    "id": "j8tJ8LCE5KIY",
    "outputId": "f0e8ba83-d9fb-47ad-837a-8d609a1e812e"
   },
   "outputs": [
    {
     "data": {
      "text/plain": [
       "True"
      ]
     },
     "execution_count": 12,
     "metadata": {
      "tags": []
     },
     "output_type": "execute_result"
    }
   ],
   "source": [
    "torch.cuda.is_available()#code ruuns faster if cuda is available"
   ]
  },
  {
   "cell_type": "code",
   "execution_count": 13,
   "metadata": {
    "executionInfo": {
     "elapsed": 498,
     "status": "ok",
     "timestamp": 1608049123510,
     "user": {
      "displayName": "Marija Lazaroska",
      "photoUrl": "",
      "userId": "00449803403702504522"
     },
     "user_tz": -60
    },
    "id": "RFfeC-7ZjAZN"
   },
   "outputs": [],
   "source": [
    "device = torch.device(\"cuda\" if torch.cuda.is_available() else \"cpu\")"
   ]
  },
  {
   "cell_type": "code",
   "execution_count": 14,
   "metadata": {
    "executionInfo": {
     "elapsed": 1012,
     "status": "ok",
     "timestamp": 1608049125266,
     "user": {
      "displayName": "Marija Lazaroska",
      "photoUrl": "",
      "userId": "00449803403702504522"
     },
     "user_tz": -60
    },
    "id": "X8bWF62rbvmd"
   },
   "outputs": [],
   "source": [
    "NUM_EPOCHS = 300\n",
    "BATCH_SIZE = 32"
   ]
  },
  {
   "cell_type": "code",
   "execution_count": 15,
   "metadata": {
    "colab": {
     "base_uri": "https://localhost:8080/"
    },
    "executionInfo": {
     "elapsed": 130392,
     "status": "ok",
     "timestamp": 1608049256442,
     "user": {
      "displayName": "Marija Lazaroska",
      "photoUrl": "",
      "userId": "00449803403702504522"
     },
     "user_tz": -60
    },
    "id": "fm1DbyBkPuyj",
    "outputId": "b7745341-8ddc-4725-bfc6-c6a0b6b07338"
   },
   "outputs": [
    {
     "name": "stdout",
     "output_type": "stream",
     "text": [
      "Starting training\n",
      "\tEpoch 0   | R2 score: -12.190027449308394, r score: 0.03743275205238195\n",
      "\tEpoch 50   | R2 score: 0.07177708635293142, r score: 0.5775579724757538\n",
      "\tEpoch 100   | R2 score: 0.3498751769513037, r score: 0.7027114187317737\n",
      "\tEpoch 150   | R2 score: 0.6353525088002858, r score: 0.8108577218196846\n",
      "\tEpoch 200   | R2 score: 0.6905323405198073, r score: 0.8727558965344929\n",
      "\tEpoch 250   | R2 score: 0.8017106511112412, r score: 0.9093853601820941\n",
      "\tEpoch 299   | R2 score: 0.7994324127323946, r score: 0.9022759134713043\n"
     ]
    }
   ],
   "source": [
    "model = ConvModel1Channel().to(device)\n",
    "criterion = nn.MSELoss()\n",
    "dataset_train = [np.array(X_train),np.array(y_train)]\n",
    "dataset_test = [np.array(X_test),np.array(y_test)]\n",
    "optimizer = optim.Adam(model.parameters(), lr=0.001)\n",
    "\n",
    "\n",
    "r = train(model,criterion,dataset_train,dataset_test, optimizer,NUM_EPOCHS,BATCH_SIZE)"
   ]
  },
  {
   "cell_type": "code",
   "execution_count": 16,
   "metadata": {
    "colab": {
     "base_uri": "https://localhost:8080/"
    },
    "executionInfo": {
     "elapsed": 1359,
     "status": "ok",
     "timestamp": 1608050939471,
     "user": {
      "displayName": "Marija Lazaroska",
      "photoUrl": "",
      "userId": "00449803403702504522"
     },
     "user_tz": -60
    },
    "id": "P_F4mZaLLQke",
    "outputId": "46028b9a-148d-4a39-a79d-d87babd0b881"
   },
   "outputs": [
    {
     "name": "stdout",
     "output_type": "stream",
     "text": [
      "MAE loss  0.0013120285\n"
     ]
    }
   ],
   "source": [
    "print(\"MAE loss \",r[1][-1])"
   ]
  },
  {
   "cell_type": "code",
   "execution_count": null,
   "metadata": {
    "colab": {
     "base_uri": "https://localhost:8080/",
     "height": 256
    },
    "executionInfo": {
     "elapsed": 1022,
     "status": "ok",
     "timestamp": 1607819128689,
     "user": {
      "displayName": "Marija Lazaroska",
      "photoUrl": "",
      "userId": "00449803403702504522"
     },
     "user_tz": -60
    },
    "id": "8-jlHUki0vq-",
    "outputId": "79dd759f-1c8e-4f1d-9759-17a72f08763f"
   },
   "outputs": [
    {
     "data": {
      "image/png": "[encoded data removed]",
      "text/plain": [
       "<Figure size 720x216 with 2 Axes>"
      ]
     },
     "metadata": {
      "needs_background": "light",
      "tags": []
     },
     "output_type": "display_data"
    }
   ],
   "source": [
    "f, (ax1, ax2) = plt.subplots(1, 2, figsize=(10,3),sharey=False)\n",
    "x = np.arange(0,NUM_EPOCHS)\n",
    "ax1.plot(x,np.array(r)[0],label=\"R2\")\n",
    "ax1.plot(x,np.array(r)[4],label=\"r\")\n",
    "ax2.plot(x,np.array(r)[1],label=\"loss\")\n",
    "ax1.legend()\n",
    "ax2.legend()\n",
    "f.tight_layout() \n",
    "f.suptitle(\"Test\",y=1.09)\n",
    "plt.show()"
   ]
  },
  {
   "cell_type": "code",
   "execution_count": null,
   "metadata": {
    "colab": {
     "base_uri": "https://localhost:8080/",
     "height": 256
    },
    "executionInfo": {
     "elapsed": 774,
     "status": "ok",
     "timestamp": 1607819131422,
     "user": {
      "displayName": "Marija Lazaroska",
      "photoUrl": "",
      "userId": "00449803403702504522"
     },
     "user_tz": -60
    },
    "id": "ujRb5uRPJ4G9",
    "outputId": "66e8e99c-1a3c-48ab-f292-89b791c96f02"
   },
   "outputs": [
    {
     "data": {
      "image/png": "[encoded data removed]",
      "text/plain": [
       "<Figure size 720x216 with 2 Axes>"
      ]
     },
     "metadata": {
      "needs_background": "light",
      "tags": []
     },
     "output_type": "display_data"
    }
   ],
   "source": [
    "f, (ax1, ax2) = plt.subplots(1, 2, figsize=(10,3),sharey=False)\n",
    "x = np.arange(0,NUM_EPOCHS)\n",
    "ax1.plot(x,np.array(r)[2],label=\"R2\")\n",
    "ax2.plot(x,np.array(r)[3],label=\"loss\")\n",
    "ax1.legend()\n",
    "ax2.legend()\n",
    "f.tight_layout() \n",
    "f.suptitle(\"Train\",y=1.09)\n",
    "plt.show()"
   ]
  },
  {
   "cell_type": "markdown",
   "metadata": {
    "id": "3Zj02Ed9otq_"
   },
   "source": [
    "TUNING HYPER PARAMETERS"
   ]
  },
  {
   "cell_type": "code",
   "execution_count": null,
   "metadata": {
    "colab": {
     "base_uri": "https://localhost:8080/"
    },
    "executionInfo": {
     "elapsed": 522853,
     "status": "ok",
     "timestamp": 1607818741281,
     "user": {
      "displayName": "Marija Lazaroska",
      "photoUrl": "",
      "userId": "00449803403702504522"
     },
     "user_tz": -60
    },
    "id": "lbWrgHAVo0G2",
    "outputId": "eb7e1f65-37b1-494d-959b-0025818449a5"
   },
   "outputs": [
    {
     "name": "stdout",
     "output_type": "stream",
     "text": [
      "PARAMETERS: LEARNING RATE = 0.001, BATCH_SIZE = 32\n",
      "Starting training\n",
      "\tEpoch 0   | R2 score: -0.7007575126244191, r score: -0.11790751297924983\n",
      "\tEpoch 50   | R2 score: 0.46827816590716054, r score: 0.7369579382425963\n",
      "\tEpoch 100   | R2 score: 0.7483487687675372, r score: 0.8766851745259662\n",
      "\tEpoch 150   | R2 score: 0.7557712459833248, r score: 0.894981966497243\n",
      "\tEpoch 200   | R2 score: 0.8063852383804506, r score: 0.9050215300408264\n",
      "\tEpoch 250   | R2 score: 0.8240922384961632, r score: 0.9149663736002072\n",
      "\tEpoch 299   | R2 score: 0.8130426919037032, r score: 0.915358157231906\n",
      "PARAMETERS: LEARNING RATE = 0.001, BATCH_SIZE = 64\n",
      "Starting training\n",
      "\tEpoch 0   | R2 score: -0.7214146920540293, r score: -0.24021718995432398\n",
      "\tEpoch 50   | R2 score: 0.6124926369283142, r score: 0.8017774363586492\n",
      "\tEpoch 100   | R2 score: 0.7442102671717792, r score: 0.8699302423648371\n",
      "\tEpoch 150   | R2 score: 0.7770640803339752, r score: 0.8848783408987769\n",
      "\tEpoch 200   | R2 score: 0.8370894681438221, r score: 0.919437557987319\n",
      "\tEpoch 250   | R2 score: 0.8150823467281391, r score: 0.9140311355195676\n",
      "\tEpoch 299   | R2 score: 0.8018694488398433, r score: 0.9080086316010741\n",
      "PARAMETERS: LEARNING RATE = 0.001, BATCH_SIZE = 128\n",
      "Starting training\n",
      "\tEpoch 0   | R2 score: -4.131325893244292, r score: 0.07317977223523377\n",
      "\tEpoch 50   | R2 score: 0.3355490754812407, r score: 0.6363844701743117\n",
      "\tEpoch 100   | R2 score: 0.45955855710509463, r score: 0.6954317558828237\n",
      "\tEpoch 150   | R2 score: 0.5236021425537335, r score: 0.745317097778971\n",
      "\tEpoch 200   | R2 score: 0.533386077567631, r score: 0.7660067869752477\n",
      "\tEpoch 250   | R2 score: 0.590618992897226, r score: 0.8129486317785416\n",
      "\tEpoch 299   | R2 score: 0.5568517693120042, r score: 0.8361470905698702\n",
      "PARAMETERS: LEARNING RATE = 0.001, BATCH_SIZE = 200\n",
      "Starting training\n",
      "\tEpoch 0   | R2 score: -11.47341559475975, r score: -0.10068370560549293\n",
      "\tEpoch 50   | R2 score: 0.02947959581844231, r score: 0.17967908364766294\n",
      "\tEpoch 100   | R2 score: 0.035565494514264884, r score: 0.20871286641310913\n",
      "\tEpoch 150   | R2 score: 0.03150888296142737, r score: 0.21458682056394457\n",
      "\tEpoch 200   | R2 score: 0.0480986135104248, r score: 0.24924579918358786\n",
      "\tEpoch 250   | R2 score: 0.03600005846678217, r score: 0.2498940057825774\n",
      "\tEpoch 299   | R2 score: 0.06336519217293102, r score: 0.2685020895928135\n",
      "PARAMETERS: LEARNING RATE = 0.001, BATCH_SIZE = 250\n",
      "Starting training\n",
      "\tEpoch 0   | R2 score: -8.333633665614606, r score: -0.049864252993490586\n",
      "\tEpoch 50   | R2 score: 0.027111505880047366, r score: 0.173276997184221\n",
      "\tEpoch 100   | R2 score: 0.03505669806780868, r score: 0.19901227885985026\n",
      "\tEpoch 150   | R2 score: 0.033359208388524096, r score: 0.20541368657008383\n",
      "\tEpoch 200   | R2 score: 0.04451182661737977, r score: 0.23289347660246995\n",
      "\tEpoch 250   | R2 score: 0.04330810749881164, r score: 0.23166529252378446\n",
      "\tEpoch 299   | R2 score: 0.0527800652464917, r score: 0.24509337691713773\n",
      "PARAMETERS: LEARNING RATE = 0.0001, BATCH_SIZE = 32\n",
      "Starting training\n",
      "\tEpoch 0   | R2 score: -28.849431287525835, r score: -0.21004848870919113\n",
      "\tEpoch 50   | R2 score: -0.0073366057591310475, r score: 0.3724397891854599\n",
      "\tEpoch 100   | R2 score: 0.40354961324100946, r score: 0.6595866829787354\n",
      "\tEpoch 150   | R2 score: 0.49694304187067684, r score: 0.7534136836851044\n",
      "\tEpoch 200   | R2 score: 0.58311806353636, r score: 0.7858996082074718\n",
      "\tEpoch 250   | R2 score: 0.6140997423617829, r score: 0.8067321497353893\n",
      "\tEpoch 299   | R2 score: 0.6657050302985761, r score: 0.822453827666223\n",
      "PARAMETERS: LEARNING RATE = 0.0001, BATCH_SIZE = 64\n",
      "Starting training\n",
      "\tEpoch 0   | R2 score: -10.211897921790344, r score: -0.2810565825106999\n",
      "\tEpoch 50   | R2 score: -0.07638451114653903, r score: 0.2759452114657897\n",
      "\tEpoch 100   | R2 score: 0.2706400214069554, r score: 0.5423204404490866\n",
      "\tEpoch 150   | R2 score: 0.38452719847976136, r score: 0.6405792023550742\n",
      "\tEpoch 200   | R2 score: 0.4750198430951569, r score: 0.6998856739946874\n",
      "\tEpoch 250   | R2 score: 0.5155829724173816, r score: 0.7297621526679038\n",
      "\tEpoch 299   | R2 score: 0.5485563635285747, r score: 0.7501020408388009\n",
      "PARAMETERS: LEARNING RATE = 0.0001, BATCH_SIZE = 128\n",
      "Starting training\n",
      "\tEpoch 0   | R2 score: -2.764342819288977, r score: -0.07540338818581828\n",
      "\tEpoch 50   | R2 score: -0.4290241561836304, r score: -0.014797388640707482\n",
      "\tEpoch 100   | R2 score: 0.04304840571335198, r score: 0.2801170522745698\n",
      "\tEpoch 150   | R2 score: 0.18961053961884308, r score: 0.44892727590550946\n",
      "\tEpoch 200   | R2 score: 0.2830640455525446, r score: 0.5407893526109003\n",
      "\tEpoch 250   | R2 score: 0.27778043900990773, r score: 0.5642210556383325\n",
      "\tEpoch 299   | R2 score: 0.3219543394842251, r score: 0.5777732922524078\n",
      "PARAMETERS: LEARNING RATE = 0.0001, BATCH_SIZE = 200\n",
      "Starting training\n",
      "\tEpoch 0   | R2 score: -13.608102993199168, r score: 0.19357612114270667\n",
      "\tEpoch 50   | R2 score: -0.07021111304323813, r score: 0.11225633245451266\n",
      "\tEpoch 100   | R2 score: 0.1179466704706646, r score: 0.36785621165439075\n",
      "\tEpoch 150   | R2 score: 0.19757734258324167, r score: 0.45313275904830796\n",
      "\tEpoch 200   | R2 score: 0.23413995482364672, r score: 0.5032834852586474\n",
      "\tEpoch 250   | R2 score: 0.2885256039746243, r score: 0.5543294993538416\n",
      "\tEpoch 299   | R2 score: 0.3054186777962248, r score: 0.5683384950954569\n",
      "PARAMETERS: LEARNING RATE = 0.0001, BATCH_SIZE = 250\n",
      "Starting training\n",
      "\tEpoch 0   | R2 score: -42.13157224056903, r score: 0.03747381478847307\n",
      "\tEpoch 50   | R2 score: -0.1645080863905918, r score: -0.018318293738732443\n",
      "\tEpoch 100   | R2 score: 0.027455342146171624, r score: 0.19286107094944036\n",
      "\tEpoch 150   | R2 score: 0.038880339864936, r score: 0.23862808701295526\n",
      "\tEpoch 200   | R2 score: 0.046197564167012074, r score: 0.2460989866516207\n",
      "\tEpoch 250   | R2 score: 0.05000269326078414, r score: 0.24645015340907908\n",
      "\tEpoch 299   | R2 score: 0.06182145932592179, r score: 0.28526759013549785\n"
     ]
    }
   ],
   "source": [
    "learning_rate=[0.001,0.0001]\n",
    "#batch_size=[90,150,200,250]\n",
    "batch_size = [32,64,128,200,250]\n",
    "parameters = [learning_rate,batch_size]\n",
    "dataset_train = [np.array(X_train),np.array(y_train)]\n",
    "dataset_test = [np.array(X_test),np.array(y_test)]\n",
    "results=hypertuning_NN(dataset_train,dataset_test,parameters,NUM_EPOCHS,1)"
   ]
  },
  {
   "cell_type": "code",
   "execution_count": null,
   "metadata": {
    "colab": {
     "base_uri": "https://localhost:8080/",
     "height": 294
    },
    "executionInfo": {
     "elapsed": 735,
     "status": "ok",
     "timestamp": 1607801648301,
     "user": {
      "displayName": "Marija Lazaroska",
      "photoUrl": "",
      "userId": "00449803403702504522"
     },
     "user_tz": -60
    },
    "id": "nlTD20J3XqoN",
    "outputId": "e2924709-6b7a-4c2a-e107-80e26c7fd893"
   },
   "outputs": [
    {
     "data": {
      "image/png": "[encoded data removed]",
      "text/plain": [
       "<Figure size 432x288 with 1 Axes>"
      ]
     },
     "metadata": {
      "needs_background": "light",
      "tags": []
     },
     "output_type": "display_data"
    }
   ],
   "source": [
    "plt.figure()\n",
    "x = np.arange(50,NUM_EPOCHS,50)\n",
    "param_combin = [[l_rate, b_size] for l_rate, b_size in product(*parameters)]\n",
    "for i in range(len(param_combin)):\n",
    "    plt.plot(x,np.array(results)[i][0][50::50],label=param_combin[i])\n",
    "  #plt.legend(['{}'.format(i)])\n",
    "plt.legend()\n",
    "plt.suptitle(\"R2 score\")\n",
    "plt.show()"
   ]
  },
  {
   "cell_type": "code",
   "execution_count": null,
   "metadata": {
    "colab": {
     "base_uri": "https://localhost:8080/",
     "height": 294
    },
    "executionInfo": {
     "elapsed": 831,
     "status": "ok",
     "timestamp": 1607801734596,
     "user": {
      "displayName": "Marija Lazaroska",
      "photoUrl": "",
      "userId": "00449803403702504522"
     },
     "user_tz": -60
    },
    "id": "ZIHAnD2PiZen",
    "outputId": "2bc01a02-3984-403a-cd8a-883543a83243"
   },
   "outputs": [
    {
     "data": {
      "image/png": "[encoded data removed]",
      "text/plain": [
       "<Figure size 432x288 with 1 Axes>"
      ]
     },
     "metadata": {
      "needs_background": "light",
      "tags": []
     },
     "output_type": "display_data"
    }
   ],
   "source": [
    "plt.figure()\n",
    "x = np.arange(50,NUM_EPOCHS,50)\n",
    "param_combin = [[l_rate, b_size] for l_rate, b_size in product(*parameters)]\n",
    "for i in range(len(param_combin)):\n",
    "    plt.plot(x,np.array(results)[i][1][50::50],label=param_combin[i])\n",
    "  #plt.legend(['{}'.format(i)])\n",
    "plt.legend()\n",
    "plt.suptitle(\"Loss\")\n",
    "plt.show()"
   ]
  }
 ],
 "metadata": {
  "accelerator": "GPU",
  "colab": {
   "collapsed_sections": [],
   "name": "NeuralNetworks.ipynb",
   "provenance": []
  },
  "kernelspec": {
   "display_name": "Python [conda env:ada] *",
   "language": "python",
   "name": "conda-env-ada-py"
  },
  "language_info": {
   "codemirror_mode": {
    "name": "ipython",
    "version": 3
   },
   "file_extension": ".py",
   "mimetype": "text/x-python",
   "name": "python",
   "nbconvert_exporter": "python",
   "pygments_lexer": "ipython3",
   "version": "3.8.5"
  }
 },
 "nbformat": 4,
 "nbformat_minor": 4
}
